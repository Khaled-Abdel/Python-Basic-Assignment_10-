{
 "cells": [
  {
   "cell_type": "markdown",
   "metadata": {},
   "source": [
    "#1) How do you distinguish between shutil.copy() and shutil.copytree()?"
   ]
  },
  {
   "cell_type": "code",
   "execution_count": null,
   "metadata": {},
   "outputs": [],
   "source": [
    "# shutil.copy() can copy a file\n",
    "# while shutil.copytree() can copy an entire folder"
   ]
  },
  {
   "cell_type": "markdown",
   "metadata": {},
   "source": [
    "#2) What function is used to rename files??"
   ]
  },
  {
   "cell_type": "code",
   "execution_count": null,
   "metadata": {},
   "outputs": [],
   "source": [
    "# os.remove used to rename files"
   ]
  },
  {
   "cell_type": "markdown",
   "metadata": {},
   "source": [
    "#3) What is the difference between the delete functions in the send2trash and shutil modules?"
   ]
  },
  {
   "cell_type": "code",
   "execution_count": null,
   "metadata": {},
   "outputs": [],
   "source": [
    "#send2trash() will send it to the recycling bin, while shutil will delete it completly"
   ]
  },
  {
   "cell_type": "markdown",
   "metadata": {},
   "source": [
    "#4) ZipFile objects have a close() method just like File objects’ close() method. What ZipFile method is equivalent to File objects’ open() method?"
   ]
  },
  {
   "cell_type": "code",
   "execution_count": null,
   "metadata": {},
   "outputs": [],
   "source": [
    "# to open a zipfile we need to enter zipfile.ZipFile(file,mode)"
   ]
  },
  {
   "cell_type": "markdown",
   "metadata": {},
   "source": [
    "#5) Create a programme that searches a folder tree for files with a certain file extension (such as .pdf or .jpg). Copy these files from whatever location they are in to a new folder."
   ]
  },
  {
   "cell_type": "code",
   "execution_count": 1,
   "metadata": {},
   "outputs": [
    {
     "name": "stdout",
     "output_type": "stream",
     "text": [
      "Enter the type of file: .pdf or .jpg or .docx or .txt: .docx\n",
      "Enter the name of the file you like to search for: Assignment\n",
      "done it\n",
      "done it\n",
      "done it\n",
      "done it\n",
      "done it\n",
      "done it\n",
      "done it\n",
      "done it\n",
      "done it\n",
      "done it\n",
      "done it\n",
      "done it\n",
      "done it\n",
      "done it\n",
      "done it\n",
      "done it\n",
      "done it\n",
      "done it\n",
      "done it\n",
      "done it\n",
      "done it\n",
      "done it\n",
      "done it\n",
      "done it\n",
      "done it\n",
      "done it\n",
      "done it\n",
      "done it\n"
     ]
    }
   ],
   "source": [
    "import os\n",
    "import shutil\n",
    "\n",
    "type_file = input(\"Enter the type of file: .pdf or .jpg or .docx or .txt: \").lower()\n",
    "search_file = input(\"Enter the name of the file you like to search for: \")\n",
    "\n",
    "\n",
    "if not os.path.isdir(\"All files\"):\n",
    "    os.mkdir(\"All files\")\n",
    "\n",
    "#To search for all the files. To copy and move them to one folder\n",
    "files_list= []\n",
    "for root_path, sub_dirs, files in os.walk(\"C:/\"):\n",
    "    for file in files:\n",
    "        if file.startswith(search_file) and file.endswith(type_file):\n",
    "            if file not in files_list:\n",
    "                shutil.copy(os.path.join(root_path,file), os.getcwd()+\"\\\\\"+\"All files\")\n",
    "            files_list.append(file)\n",
    "            \n"
   ]
  },
  {
   "cell_type": "code",
   "execution_count": null,
   "metadata": {},
   "outputs": [],
   "source": []
  },
  {
   "cell_type": "code",
   "execution_count": null,
   "metadata": {},
   "outputs": [],
   "source": []
  },
  {
   "cell_type": "code",
   "execution_count": null,
   "metadata": {},
   "outputs": [],
   "source": []
  },
  {
   "cell_type": "code",
   "execution_count": null,
   "metadata": {},
   "outputs": [],
   "source": []
  },
  {
   "cell_type": "code",
   "execution_count": null,
   "metadata": {},
   "outputs": [],
   "source": []
  },
  {
   "cell_type": "code",
   "execution_count": null,
   "metadata": {},
   "outputs": [],
   "source": []
  },
  {
   "cell_type": "code",
   "execution_count": null,
   "metadata": {},
   "outputs": [],
   "source": []
  },
  {
   "cell_type": "code",
   "execution_count": 34,
   "metadata": {},
   "outputs": [],
   "source": [
    "\n",
    "    "
   ]
  },
  {
   "cell_type": "code",
   "execution_count": null,
   "metadata": {},
   "outputs": [],
   "source": []
  },
  {
   "cell_type": "code",
   "execution_count": null,
   "metadata": {},
   "outputs": [],
   "source": []
  },
  {
   "cell_type": "code",
   "execution_count": null,
   "metadata": {},
   "outputs": [],
   "source": []
  }
 ],
 "metadata": {
  "kernelspec": {
   "display_name": "Python 3",
   "language": "python",
   "name": "python3"
  },
  "language_info": {
   "codemirror_mode": {
    "name": "ipython",
    "version": 3
   },
   "file_extension": ".py",
   "mimetype": "text/x-python",
   "name": "python",
   "nbconvert_exporter": "python",
   "pygments_lexer": "ipython3",
   "version": "3.8.5"
  }
 },
 "nbformat": 4,
 "nbformat_minor": 4
}
